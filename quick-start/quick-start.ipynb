{
 "cells": [
  {
   "cell_type": "code",
   "execution_count": 4,
   "metadata": {},
   "outputs": [],
   "source": [
    "import json\n",
    "# Load the utilities JSON\n",
    "def load_json(address):\n",
    "    with open(address, 'r', encoding='utf-8') as f:\n",
    "        return json.load(f)"
   ]
  },
  {
   "cell_type": "code",
   "execution_count": 16,
   "metadata": {},
   "outputs": [],
   "source": [
    "train_msg = load_json(r\"/home/hz271/Research/General Robotics Lab 通用机器人实验室/LLM_As_Agent/data/input/msg/train_msg.json\")"
   ]
  },
  {
   "cell_type": "code",
   "execution_count": 17,
   "metadata": {},
   "outputs": [
    {
     "name": "stdout",
     "output_type": "stream",
     "text": [
      "This is a text-based small 2D world (world ID #{}), you mission is to explore it as much as you can, understand surrounding's object's properties and summarize useful experience. Observations are composed of: \n",
      " 1. World Map: A 2D matrix that records yourself and surrounding objects, where each object is encoded by this rule: If 5 is grey, then 5Wall is grey wall. 1 is green, 1Door+ will mean a green door but locked because + represents locked. Yourself is the position of you in the world map, with coordinate being (X, Y) and your facing direction (Right/East, Up/North, Left/West or Down/South). You cannot see objects behind you or blocked behind. The world map will be updated as you explore around. You will forget about positions that you haven't explored for a while. Places you have forgotten or have not viewed yet will all be marked as unseen (-).\n",
      " An example:\n",
      "[[- 5Wall 5Wall 5Wall 5Wall 5Wall - - - - -] \n",
      " [- 0Empty 0Empty 0Empty 1Ball 1Door+ - - - - -] \n",
      " [- Yourself 0Empty 0Empty 1Key 5Wall - - - - -] \n",
      " [- 0Empty 0Empty 0Empty 0Empty 5Wall - - - - -] \n",
      " [- 0Empty 0Empty 0Empty 0Empty 5Wall - - - - -] \n",
      " [- 5Wall 5Wall 5Wall 5Wall 5Wall - - - - -]] \n",
      " The numbers represents color, where black is 0, green is 1, blue is 2, purple is 3, yellow is 4 and grey is 5. Symbols represent status, nothing is open, + is locked, * is closed. For example 5Door* is a green closed door. Your position (X, Y) and facing direction. For example in this world map your position is (2,1) and direction is East/Right. Interpretation can be: a. You are in a room with walls that are grey (5Wall) on the top, bottom, and right side. b. Three spaces in front of you, to your left/west, is a green ball (1Ball). c. Four spaces in front of you, one space to your left, is a green locked (+) door (1Door+). \n",
      " 2. Inventory. You can only hold one item with you. For example you are holding a key, then you can't pick up anything unless you dropped off your key to an droppable object. \n",
      " 3. Past actions. You can remember your latest few past actions, try using diverse actions as they help to explore the world. An example:  Your past actions are forward, forward \n",
      " Interpretation: You have tried forward two times.\n",
      "4. Gained experience:\n",
      "You can refer to your gained past experiences to guide you to explore the world. \n",
      " All these examples are just for your reference, your real observation will be provided to you later with a similar format.\n"
     ]
    }
   ],
   "source": [
    "print(train_msg[\"desc_user_0\"])"
   ]
  },
  {
   "cell_type": "code",
   "execution_count": null,
   "metadata": {},
   "outputs": [],
   "source": []
  },
  {
   "cell_type": "code",
   "execution_count": 18,
   "metadata": {},
   "outputs": [],
   "source": [
    "import tiktoken"
   ]
  },
  {
   "cell_type": "code",
   "execution_count": 19,
   "metadata": {},
   "outputs": [],
   "source": [
    "encoding = tiktoken.encoding_for_model(\"gpt-3.5-turbo\")"
   ]
  },
  {
   "cell_type": "code",
   "execution_count": 25,
   "metadata": {},
   "outputs": [],
   "source": [
    "a = \"\"\"This is a text-based small 2D world (world ID #{}), you mission is to explore it as much as you can, understand surrounding's object's properties and summarize useful experience. Observations are composed of: \n",
    " 1. World Map: A 2D matrix that records yourself and surrounding objects, where each object is encoded by this rule: If 5 is grey, then 5Wall is grey wall. 1 is green, 1Door+ will mean a green door but locked because + represents locked. Yourself is the position of you in the world map, with coordinate being (X, Y) and your facing direction (Right/East, Up/North, Left/West or Down/South). You cannot see objects behind you or blocked behind. The world map will be updated as you explore around. You will forget about positions that you haven't explored for a while. Places you have forgotten or have not viewed yet will all be marked as unseen (-).\n",
    " An example:\n",
    "[[- 5Wall 5Wall 5Wall 5Wall 5Wall - - - - -] \n",
    " [- 0Empty 0Empty 0Empty 1Ball 1Door+ - - - - -] \n",
    " [- Yourself 0Empty 0Empty 1Key 5Wall - - - - -] \n",
    " [- 0Empty 0Empty 0Empty 0Empty 5Wall - - - - -] \n",
    " [- 0Empty 0Empty 0Empty 0Empty 5Wall - - - - -] \n",
    " [- 5Wall 5Wall 5Wall 5Wall 5Wall - - - - -]] \n",
    " The numbers represents color, where black is 0, green is 1, blue is 2, purple is 3, yellow is 4 and grey is 5. Symbols represent status, nothing is open, + is locked, * is closed. For example 5Door* is a green closed door. Your position (X, Y) and facing direction. For example in this world map your position is (2,1) and direction is East/Right. Interpretation can be: a. You are in a room with walls that are grey (5Wall) on the top, bottom, and right side. b. Three spaces in front of you, to your left/west, is a green ball (1Ball). c. Four spaces in front of you, one space to your left, is a green locked (+) door (1Door+). \n",
    " 2. Inventory. You can only hold one item with you. For example you are holding a key, then you can't pick up anything unless you dropped off your key to an droppable object. \n",
    " 3. Past actions. You can remember your latest few past actions, try using diverse actions as they help to explore the world. An example:  Your past actions are forward, forward \n",
    " Interpretation: You have tried forward two times.\n",
    "4. Gained experience:\n",
    "You can refer to your gained past experiences to guide you to explore the world. \n",
    " All these examples are just for your reference, your real observation will be provided to you later with a similar format.\"\"\""
   ]
  },
  {
   "cell_type": "code",
   "execution_count": 26,
   "metadata": {},
   "outputs": [
    {
     "data": {
      "text/plain": [
       "657"
      ]
     },
     "execution_count": 26,
     "metadata": {},
     "output_type": "execute_result"
    }
   ],
   "source": [
    "len(encoding.encode(a))"
   ]
  },
  {
   "cell_type": "code",
   "execution_count": 22,
   "metadata": {},
   "outputs": [
    {
     "data": {
      "text/plain": [
       "1"
      ]
     },
     "execution_count": 22,
     "metadata": {},
     "output_type": "execute_result"
    }
   ],
   "source": [
    "len(encoding.encode(\"what\"))"
   ]
  },
  {
   "cell_type": "code",
   "execution_count": 9,
   "metadata": {},
   "outputs": [
    {
     "data": {
      "text/plain": [
       "'.'"
      ]
     },
     "execution_count": 9,
     "metadata": {},
     "output_type": "execute_result"
    }
   ],
   "source": [
    "import os\n",
    "os.curdir"
   ]
  },
  {
   "cell_type": "code",
   "execution_count": 10,
   "metadata": {},
   "outputs": [],
   "source": [
    "import openai\n",
    "openai.api_key = open(\"../utils/api/API_KEY\", \"r\").read()"
   ]
  },
  {
   "cell_type": "code",
   "execution_count": 93,
   "metadata": {},
   "outputs": [],
   "source": [
    "def choose_act(action):\n",
    "    # Check if param is a list\n",
    "    if isinstance(action, list):\n",
    "        # Check if the list has more than 1 element\n",
    "        if len(action) > 1:\n",
    "            return action\n",
    "        else:\n",
    "            # If it's a list of length 1, extract the first element and try to convert it to int\n",
    "            try:\n",
    "                return int(action[0])\n",
    "            except (ValueError, TypeError):\n",
    "                raise ValueError(\"Single element in the list or the parameter itself could not be converted to an integer.\")\n",
    "    else:\n",
    "        # If it's not a list, try to convert it to int\n",
    "        try:\n",
    "            return int(action)\n",
    "        except (ValueError, TypeError):\n",
    "            raise ValueError(\"The parameter could not be converted to an integer.\")"
   ]
  },
  {
   "cell_type": "code",
   "execution_count": 94,
   "metadata": {},
   "outputs": [],
   "source": [
    "msg = [{\"role\": \"user\", \"content\": \"convert 1, 2 into a list of integers by calling function \\\"choose_act\\\" with list of integers as parameter\"}]"
   ]
  },
  {
   "cell_type": "code",
   "execution_count": 101,
   "metadata": {},
   "outputs": [],
   "source": [
    "msg = [{\"role\": \"user\", \"content\": \"Choose an action or a mutiple step actions plan from the following to exlore the environment as much as you can: \\n(0) left: turn your view to the left object\\n(1) right: turn your view to the right object\\n(2) toggle: toggle the object in front of you\\n(3) forward: move yourself to the front object if it's empty or opened\\n(4) pick up: pick up the front object if it can be picked up\\n(5) drop off: drop off the current inventory if front is empty\\n\\nAnd explain why.\\n\\nLimit your reason to be less than 100 tokens.\\n\\nUse format like: (a). Action #1 (b). Action #2 etc.\"}]\n",
    "msg.append({\"role\": \"assistant\", \"content\": \"I choose to do move forward four times\"})\n",
    "msg.append({\"role\": \"user\", \"content\": \"Convert above reason of choices into a list of integers by calling function \\\"choose_act\\\" with a list of integers as parameter\"})"
   ]
  },
  {
   "cell_type": "code",
   "execution_count": 102,
   "metadata": {},
   "outputs": [],
   "source": [
    "\n",
    "fuc_msg = \"Function to convert the reason of choices into a list of integers\"\n",
    "fuc = [\n",
    "    {\n",
    "        \"name\": \"choose_act\",\n",
    "        \"description\":fuc_msg,\n",
    "        \"parameters\":{\n",
    "            \"type\":\"object\",\n",
    "            \"properties\":{\n",
    "                \"action\":\n",
    "                {\n",
    "                    \"type\":\"integer\",\n",
    "                    \"description\":\"list of integers corresponding to the action\",\n",
    "                }  \n",
    "            },\n",
    "            \"required\":[\"action\"]\n",
    "        }\n",
    "    }]"
   ]
  },
  {
   "cell_type": "code",
   "execution_count": 103,
   "metadata": {},
   "outputs": [],
   "source": [
    "import json\n",
    "rsp = openai.ChatCompletion.create(\n",
    "    model = \"gpt-3.5-turbo\",\n",
    "    messages = msg,\n",
    "    functions = fuc,\n",
    "    function_call = \"auto\",\n",
    "    temperature = 0.1\n",
    ")\n",
    "rsp_msg = rsp[\"choices\"][0][\"message\"]\n",
    "if rsp_msg.get(\"function_call\"):\n",
    "    fuc_l = {\n",
    "        \"choose_act\": choose_act,\n",
    "    }\n",
    "    fuc_n = rsp_msg[\"function_call\"][\"name\"]\n",
    "    if fuc_n == \"choose_act\":\n",
    "        fuc_c = fuc_l[fuc_n]\n",
    "        fuc_args = json.loads(rsp_msg[\"function_call\"][\"arguments\"])\n",
    "        act = fuc_c(\n",
    "            action = fuc_args.get(\"action\")\n",
    "        )\n",
    "        "
   ]
  },
  {
   "cell_type": "code",
   "execution_count": 104,
   "metadata": {},
   "outputs": [
    {
     "data": {
      "text/plain": [
       "list"
      ]
     },
     "execution_count": 104,
     "metadata": {},
     "output_type": "execute_result"
    }
   ],
   "source": [
    "type(act)"
   ]
  },
  {
   "cell_type": "code",
   "execution_count": 105,
   "metadata": {},
   "outputs": [
    {
     "data": {
      "text/plain": [
       "[3, 3, 3, 3]"
      ]
     },
     "execution_count": 105,
     "metadata": {},
     "output_type": "execute_result"
    }
   ],
   "source": [
    "act"
   ]
  },
  {
   "cell_type": "code",
   "execution_count": 106,
   "metadata": {},
   "outputs": [
    {
     "data": {
      "text/plain": [
       "[<OpenAIObject at 0x7f504f2735b0> JSON: {\n",
       "   \"index\": 0,\n",
       "   \"message\": {\n",
       "     \"role\": \"assistant\",\n",
       "     \"content\": null,\n",
       "     \"function_call\": {\n",
       "       \"name\": \"choose_act\",\n",
       "       \"arguments\": \"{\\n  \\\"action\\\": [3, 3, 3, 3]\\n}\"\n",
       "     }\n",
       "   },\n",
       "   \"finish_reason\": \"function_call\"\n",
       " }]"
      ]
     },
     "execution_count": 106,
     "metadata": {},
     "output_type": "execute_result"
    }
   ],
   "source": [
    "rsp[\"choices\"]"
   ]
  },
  {
   "cell_type": "code",
   "execution_count": 107,
   "metadata": {},
   "outputs": [
    {
     "name": "stdout",
     "output_type": "stream",
     "text": [
      "{\n",
      "  \"role\": \"assistant\",\n",
      "  \"content\": null,\n",
      "  \"function_call\": {\n",
      "    \"name\": \"choose_act\",\n",
      "    \"arguments\": \"{\\n  \\\"action\\\": [3, 3, 3, 3]\\n}\"\n",
      "  }\n",
      "}\n"
     ]
    }
   ],
   "source": [
    "print(rsp_msg)"
   ]
  },
  {
   "cell_type": "code",
   "execution_count": null,
   "metadata": {},
   "outputs": [],
   "source": []
  }
 ],
 "metadata": {
  "kernelspec": {
   "display_name": "minigrid",
   "language": "python",
   "name": "python3"
  },
  "language_info": {
   "codemirror_mode": {
    "name": "ipython",
    "version": 3
   },
   "file_extension": ".py",
   "mimetype": "text/x-python",
   "name": "python",
   "nbconvert_exporter": "python",
   "pygments_lexer": "ipython3",
   "version": "3.10.12"
  },
  "orig_nbformat": 4
 },
 "nbformat": 4,
 "nbformat_minor": 2
}
