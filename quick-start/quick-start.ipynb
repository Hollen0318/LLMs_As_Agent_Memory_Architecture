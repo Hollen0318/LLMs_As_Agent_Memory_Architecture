{
 "cells": [
  {
   "cell_type": "code",
   "execution_count": 2,
   "metadata": {},
   "outputs": [],
   "source": [
    "import tiktoken"
   ]
  },
  {
   "cell_type": "code",
   "execution_count": 4,
   "metadata": {},
   "outputs": [],
   "source": [
    "encoding = tiktoken.encoding_for_model(\"gpt-3.5-turbo\")"
   ]
  },
  {
   "cell_type": "code",
   "execution_count": 5,
   "metadata": {},
   "outputs": [],
   "source": [
    "a = \"This is a text-based small 2D world (world ID #{}), you mission is to explore it as much as you can, understand surrounding's object's properties and summarize to useful experience.\\nObservations of environment will be: 1. World Map: It is a 2D matrix records yourself and surrounding objects, where each object is encoded by this rule: If 5 is grey, then 5Wall is grey wall. 1 is green, 1Door+ will mean a green door but locked because + represents locked. Yourself is the position of you in the world map, with coordinate being (X, Y) and your facing direction (Right/East, Up/North, Left/West or Down/South). You cannot see objects behind you or blocked. The world map will be updated when you explore around. You will also forget about positions that you haven't explored for a while.\\n\\n  Places you have forgotten or have not viewed yet will all be marked as unseen (-).\\n\\n An example:\\n[[- 5Wall 5Wall 5Wall 5Wall 5Wall - - - - -] \\n [- 0Empty 0Empty 0Empty 1Ball 1Door+ - - - - -] \\n [- Yourself 0Empty 0Empty 1Key 5Wall - - - - -] \\n [- 0Empty 0Empty 0Empty 0Empty 5Wall - - - - -] \\n [- 0Empty 0Empty 0Empty 0Empty 5Wall - - - - -] \\n [- 5Wall 5Wall 5Wall 5Wall 5Wall - - - - -]] \\n The numbers represents color, where black is 0, green is 1, blue is 2, purple is 3, yellow is 4 and grey is 5. Symbols repreesnt status, nothing is open, + is locked, - is closed. For example 5Door- is a green closed door. Your position (X, Y) and facing direction. For example in this world map your position is (2,1) and direction is East/Right. Interpretation can be: 1. You are in a room with walls that are grey (5Wall) on the top, bottom, and right side. 2. Three spaces in front of you, to your left/west, is a green ball (1Ball). 3. Four spaces in front of you, one space to your left, is a green locked (+) door (1Door+). 2. Inventory. You can only hold one item with you. For example you are holding a key, then you can't pick up anything unless you dropped off your key to an droppable object. 3. Past actions. You can remember your latest few past actions, try using diverse actions as they help to explore the world. An example:  Your past actions are forward, forward \\n Interpretation: You have tried forward two times.\\n\\n4. Gained experience:\\n\\n    You can refer to your gained past experiences to guide you to explore the world. \\n All these examples are just for your reference, your real observation will be provided to you later with a similar format. What you can do is limited to the following, remember you can only interact with the single object right in front of you. (0) left: turn your view to the left object\\n(1) right: turn your view to the right object\\n(2) toggle: toggle the object in front of you\\n(3) forward: move yourself to the front object if it's empty or opened\\n(4) pick up: pick up the front object if it can be picked up\\n(5) drop off: drop off the current inventory if front is empty\""
   ]
  },
  {
   "cell_type": "code",
   "execution_count": 7,
   "metadata": {},
   "outputs": [
    {
     "data": {
      "text/plain": [
       "780"
      ]
     },
     "execution_count": 7,
     "metadata": {},
     "output_type": "execute_result"
    }
   ],
   "source": [
    "len(encoding.encode(a))"
   ]
  },
  {
   "cell_type": "code",
   "execution_count": 11,
   "metadata": {},
   "outputs": [
    {
     "data": {
      "text/plain": [
       "1"
      ]
     },
     "execution_count": 11,
     "metadata": {},
     "output_type": "execute_result"
    }
   ],
   "source": [
    "len(encoding.encode(\"what\"))"
   ]
  },
  {
   "cell_type": "code",
   "execution_count": null,
   "metadata": {},
   "outputs": [],
   "source": []
  }
 ],
 "metadata": {
  "kernelspec": {
   "display_name": "minigrid",
   "language": "python",
   "name": "python3"
  },
  "language_info": {
   "codemirror_mode": {
    "name": "ipython",
    "version": 3
   },
   "file_extension": ".py",
   "mimetype": "text/x-python",
   "name": "python",
   "nbconvert_exporter": "python",
   "pygments_lexer": "ipython3",
   "version": "3.10.12"
  },
  "orig_nbformat": 4
 },
 "nbformat": 4,
 "nbformat_minor": 2
}
